{
 "cells": [
  {
   "cell_type": "code",
   "execution_count": null,
   "metadata": {},
   "outputs": [],
   "source": [
    "%reload_ext autoreload\n",
    "%autoreload 2"
   ]
  },
  {
   "cell_type": "code",
   "execution_count": null,
   "metadata": {},
   "outputs": [],
   "source": [
    "import numpy as np\n",
    "import matplotlib.pyplot as plt\n",
    "import xarray as xr\n",
    "import pandas as pd\n",
    "from tqdm import tqdm\n",
    "from cartopy import crs as ccrs\n",
    "\n",
    "from nzdownscale.dataprocess.config_local import DATA_PATHS\n",
    "from nzdownscale.dataprocess.config import VAR_ERA5, VAR_STATIONS\n",
    "from nzdownscale.dataprocess import era5, stations, wrf"
   ]
  },
  {
   "cell_type": "code",
   "execution_count": null,
   "metadata": {},
   "outputs": [],
   "source": [
    "u_var = '10m_u_component_of_wind'\n",
    "v_var = '10m_v_component_of_wind'\n",
    "year = 2020"
   ]
  },
  {
   "cell_type": "markdown",
   "metadata": {},
   "source": [
    "# Load ERA5"
   ]
  },
  {
   "cell_type": "code",
   "execution_count": null,
   "metadata": {},
   "outputs": [],
   "source": [
    "process_era5 = era5.ProcessERA5()\n",
    "\n",
    "u_era5_var = VAR_ERA5[u_var]['var_name']\n",
    "u_era5_ds = process_era5.load_ds(u_var, year)\n",
    "u_era5_ds = u_era5_ds.compute()\n",
    "\n",
    "v_era5_var = VAR_ERA5[v_var]['var_name']\n",
    "v_era5_ds = process_era5.load_ds(v_var, year)\n",
    "v_era5_ds = v_era5_ds.compute()"
   ]
  },
  {
   "cell_type": "markdown",
   "metadata": {},
   "source": [
    "# Load stations"
   ]
  },
  {
   "cell_type": "code",
   "execution_count": null,
   "metadata": {},
   "outputs": [],
   "source": [
    "process_stations = stations.ProcessStations()\n",
    "\n",
    "u_station_var = VAR_STATIONS[u_var]['var_name']\n",
    "v_station_var = VAR_STATIONS[v_var]['var_name']\n",
    "station_df = process_stations.load_stations(u_var, year, return_uv=True)"
   ]
  },
  {
   "cell_type": "code",
   "execution_count": null,
   "metadata": {},
   "outputs": [],
   "source": [
    "station_df"
   ]
  },
  {
   "cell_type": "code",
   "execution_count": null,
   "metadata": {},
   "outputs": [],
   "source": [
    "len_df = len(station_df)\n",
    "station_df = station_df.dropna(subset=[u_station_var, v_station_var])\n",
    "print(f'Dropped {len_df - len(station_df)} NaN values')\n",
    "station_df"
   ]
  },
  {
   "cell_type": "markdown",
   "metadata": {},
   "source": [
    "# Plots"
   ]
  },
  {
   "cell_type": "code",
   "execution_count": null,
   "metadata": {},
   "outputs": [],
   "source": [
    "u_era5_mean = float(u_era5_ds[u_era5_var].mean(dim=['time', 'latitude', 'longitude']).values)\n",
    "u_station_mean = np.mean(station_df[u_station_var].values)\n",
    "print('U-component of wind:')\n",
    "print(f'ERA5 overall mean: {u_era5_mean}, \\nStation overall mean: {u_station_mean}')\n",
    "\n",
    "v_era5_mean = float(v_era5_ds[v_era5_var].mean(dim=['time', 'latitude', 'longitude']).values)\n",
    "v_station_mean = np.mean(station_df[v_station_var].values)\n",
    "print('V-component of wind:')\n",
    "print(f'ERA5 overall mean: {v_era5_mean}, \\nStation overall mean: {v_station_mean}')"
   ]
  },
  {
   "cell_type": "code",
   "execution_count": null,
   "metadata": {},
   "outputs": [],
   "source": [
    "u_era5_mean_by_month = u_era5_ds[u_era5_var].groupby('time.month').mean(dim=['time', 'latitude', 'longitude']).values\n",
    "\n",
    "station_df_reset = station_df.reset_index()\n",
    "station_df_reset['time'] = pd.to_datetime(station_df_reset['time'])\n",
    "station_df_reset = station_df_reset.set_index('time')\n",
    "u_station_mean_by_month = station_df_reset[u_station_var].resample('ME').mean().values\n",
    "\n",
    "fig, ax = plt.subplots()\n",
    "ax.plot(np.arange(1, 13), u_era5_mean_by_month, label='ERA5', marker='o')\n",
    "ax.plot(np.arange(1, 13), u_station_mean_by_month, label='Station', marker='o')\n",
    "ax.set_xlabel('Month')\n",
    "ax.set_ylabel('Surface Pressure (hPa)')\n",
    "ax.legend()\n",
    "ax.set_title(f'{u_var} mean by month, {year}')\n",
    "plt.show();\n",
    "\n",
    "v_era5_mean_by_month = v_era5_ds[v_era5_var].groupby('time.month').mean(dim=['time', 'latitude', 'longitude']).values\n",
    "v_station_mean_by_month = station_df_reset[v_station_var].resample('ME').mean().values\n",
    "\n",
    "fig, ax = plt.subplots()\n",
    "ax.plot(np.arange(1, 13), v_era5_mean_by_month, label='ERA5', marker='o')\n",
    "ax.plot(np.arange(1, 13), v_station_mean_by_month, label='Station', marker='o')\n",
    "ax.set_xlabel('Month')\n",
    "ax.set_ylabel('Surface Pressure (hPa)')\n",
    "ax.legend()\n",
    "ax.set_title(f'{v_var} mean by month, {year}')\n",
    "plt.show();\n"
   ]
  },
  {
   "cell_type": "markdown",
   "metadata": {},
   "source": [
    "# By station"
   ]
  },
  {
   "cell_type": "code",
   "execution_count": null,
   "metadata": {},
   "outputs": [],
   "source": [
    "stations = station_df_reset['station_name'].unique()"
   ]
  },
  {
   "cell_type": "code",
   "execution_count": null,
   "metadata": {},
   "outputs": [],
   "source": [
    "u_stats_by_station = {}\n",
    "v_stats_by_station = {}\n",
    "for station in tqdm(stations):\n",
    "    station_data = station_df_reset[station_df_reset['station_name'] == station]\n",
    "    \n",
    "    u_station_data_vals = station_data[u_station_var]\n",
    "    u_station_mean = u_station_data_vals.mean()\n",
    "    u_station_std = u_station_data_vals.std()\n",
    "\n",
    "    u_era5_data = u_era5_ds[u_era5_var].sel(latitude=station_data['latitude'].unique()[0],\n",
    "                                       longitude=station_data['longitude'].unique()[0],\n",
    "                                       method='nearest')\n",
    "    u_era5_data_vals = u_era5_data.values\n",
    "    u_era5_mean = u_era5_data_vals.mean()\n",
    "    u_era5_std = u_era5_data_vals.std()\n",
    "\n",
    "    u_stats_by_station[station] = {'station_mean': u_station_mean, \n",
    "                                 'station_std': u_station_std,\n",
    "                                 'era5_mean': u_era5_mean,\n",
    "                                 'era5_std': u_era5_std}\n",
    "\n",
    "    v_station_data_vals = station_data[v_station_var]\n",
    "    v_station_mean = v_station_data_vals.mean()\n",
    "    v_station_std = v_station_data_vals.std()\n",
    "\n",
    "    v_era5_data = v_era5_ds[v_era5_var].sel(latitude=station_data['latitude'].unique()[0],\n",
    "                                        longitude=station_data['longitude'].unique()[0],\n",
    "                                        method='nearest')\n",
    "    \n",
    "    v_era5_data_vals = v_era5_data.values\n",
    "    v_era5_mean = v_era5_data_vals.mean()\n",
    "    v_era5_std = v_era5_data_vals.std()\n",
    "\n",
    "    v_stats_by_station[station] = {'station_mean': v_station_mean,\n",
    "                                    'station_std': v_station_std,\n",
    "                                    'era5_mean': v_era5_mean,\n",
    "                                    'era5_std': v_era5_std}"
   ]
  },
  {
   "cell_type": "code",
   "execution_count": null,
   "metadata": {},
   "outputs": [],
   "source": [
    "num_stations = len(u_stats_by_station)\n",
    "\n",
    "station_names = list(u_stats_by_station.keys())\n",
    "\n",
    "station_means = [u_stats_by_station[station]['station_mean'] for station in station_names]\n",
    "station_stds = [u_stats_by_station[station]['station_std'] for station in station_names]\n",
    "\n",
    "era5_means = [u_stats_by_station[station]['era5_mean'] for station in station_names]\n",
    "era5_stds = [u_stats_by_station[station]['era5_std'] for station in station_names]\n",
    "\n",
    "bar_width = 0.35\n",
    "bar_positions = np.arange(num_stations)\n",
    "\n",
    "fig, ax = plt.subplots(figsize=(15, 5))\n",
    "\n",
    "# Plot the station means and stds\n",
    "ax.bar((bar_positions - bar_width/2)[:50], station_means[:50], bar_width, yerr=station_stds[:50], label='Station')\n",
    "# Plot the era5 means and stds\n",
    "ax.bar((bar_positions + bar_width/2)[:50], era5_means[:50], bar_width, yerr=era5_stds[:50], label='ERA5')\n",
    "\n",
    "ax.set_xticks(bar_positions[:50])\n",
    "ax.set_xticklabels(station_names[:50], rotation=90)\n",
    "\n",
    "ax.set_ylabel('10m U Wind Component (m/s)')\n",
    "ax.set_title('U Wind Station Mean and Std vs ERA5 Mean and Std')\n",
    "ax.legend()\n",
    "plt.show();"
   ]
  },
  {
   "cell_type": "code",
   "execution_count": null,
   "metadata": {},
   "outputs": [],
   "source": [
    "num_stations = len(v_stats_by_station)\n",
    "\n",
    "station_names = list(v_stats_by_station.keys())\n",
    "\n",
    "station_means = [v_stats_by_station[station]['station_mean'] for station in station_names]\n",
    "station_stds = [v_stats_by_station[station]['station_std'] for station in station_names]\n",
    "\n",
    "era5_means = [v_stats_by_station[station]['era5_mean'] for station in station_names]\n",
    "era5_stds = [v_stats_by_station[station]['era5_std'] for station in station_names]\n",
    "\n",
    "bar_width = 0.35\n",
    "bar_positions = np.arange(num_stations)\n",
    "\n",
    "fig, ax = plt.subplots(figsize=(15, 5))\n",
    "\n",
    "# Plot the station means and stds\n",
    "ax.bar((bar_positions - bar_width/2)[:50], station_means[:50], bar_width, yerr=station_stds[:50], label='Station')\n",
    "# Plot the era5 means and stds\n",
    "ax.bar((bar_positions + bar_width/2)[:50], era5_means[:50], bar_width, yerr=era5_stds[:50], label='ERA5')\n",
    "\n",
    "ax.set_xticks(bar_positions[:50])\n",
    "ax.set_xticklabels(station_names[:50], rotation=90)\n",
    "\n",
    "ax.set_ylabel('10m V Wind Component (m/s)')\n",
    "ax.set_title('V Wind Station Mean and Std vs ERA5 Mean and Std')\n",
    "ax.legend()\n",
    "plt.show();"
   ]
  },
  {
   "cell_type": "markdown",
   "metadata": {},
   "source": [
    "# Visualise"
   ]
  },
  {
   "cell_type": "code",
   "execution_count": null,
   "metadata": {},
   "outputs": [],
   "source": [
    "cmap = 'seismic'"
   ]
  },
  {
   "cell_type": "markdown",
   "metadata": {},
   "source": [
    "### U Wind"
   ]
  },
  {
   "cell_type": "code",
   "execution_count": null,
   "metadata": {},
   "outputs": [],
   "source": [
    "fig, ax = plt.subplots(figsize=(15, 5), **{'subplot_kw': {'projection': ccrs.PlateCarree()}})\n",
    "mean_era5 = u_era5_ds[u_era5_var].mean(dim='time')\n",
    "max_era5 = mean_era5.max().values\n",
    "min_era5 = mean_era5.min().values\n",
    "mean_era5.plot(ax=ax, \n",
    "                cmap=cmap, \n",
    "                cbar_kwargs={'label': 'U Wind Component (m/s)'},\n",
    "                vmin=min_era5, vmax=max_era5)\n",
    "ax.set_extent([165, 180, -50, -34], crs=ccrs.PlateCarree())"
   ]
  },
  {
   "cell_type": "code",
   "execution_count": null,
   "metadata": {},
   "outputs": [],
   "source": [
    "fig, ax = plt.subplots(figsize=(15, 5), **{'subplot_kw': {'projection': ccrs.PlateCarree()}})\n",
    "station_means = station_df.groupby(['latitude', 'longitude']).mean().reset_index()\n",
    "station_means.plot.scatter(x='longitude', \n",
    "                           y='latitude',\n",
    "                           c=station_means[u_station_var], \n",
    "                           cmap=cmap,\n",
    "                           ax=ax,\n",
    "                           vmin=min_era5, vmax=max_era5)\n",
    "ax.coastlines()\n",
    "ax.set_extent([165, 180, -50, -34], crs=ccrs.PlateCarree())"
   ]
  },
  {
   "cell_type": "code",
   "execution_count": null,
   "metadata": {},
   "outputs": [],
   "source": [
    "fig, ax = plt.subplots(figsize=(15, 5), **{'subplot_kw': {'projection': ccrs.PlateCarree()}})\n",
    "\n",
    "mean_era5.plot(ax=ax, \n",
    "                cmap=cmap, \n",
    "                cbar_kwargs={'label': 'U Wind Component (m/s))'},\n",
    "                vmin=min_era5, vmax=max_era5)\n",
    "station_means.plot.scatter(x='longitude', \n",
    "                           y='latitude',\n",
    "                           c=station_means[u_station_var], \n",
    "                           cmap=cmap,\n",
    "                           ax=ax,\n",
    "                           vmin=min_era5, vmax=max_era5)\n",
    "\n",
    "ax.set_extent([165, 180, -50, -34], crs=ccrs.PlateCarree())\n"
   ]
  },
  {
   "cell_type": "markdown",
   "metadata": {},
   "source": [
    "### V Wind"
   ]
  },
  {
   "cell_type": "code",
   "execution_count": null,
   "metadata": {},
   "outputs": [],
   "source": [
    "fig, ax = plt.subplots(figsize=(15, 5), **{'subplot_kw': {'projection': ccrs.PlateCarree()}})\n",
    "mean_era5 = v_era5_ds[v_era5_var].mean(dim='time')\n",
    "max_era5 = mean_era5.max().values\n",
    "min_era5 = mean_era5.min().values\n",
    "mean_era5.plot(ax=ax, \n",
    "                cmap=cmap, \n",
    "                cbar_kwargs={'label': 'V Wind Component (m/s)'},\n",
    "                vmin=min_era5, vmax=max_era5)\n",
    "ax.set_extent([165, 180, -50, -34], crs=ccrs.PlateCarree())"
   ]
  },
  {
   "cell_type": "code",
   "execution_count": null,
   "metadata": {},
   "outputs": [],
   "source": [
    "fig, ax = plt.subplots(figsize=(15, 5), **{'subplot_kw': {'projection': ccrs.PlateCarree()}})\n",
    "station_means = station_df.groupby(['latitude', 'longitude']).mean().reset_index()\n",
    "station_means.plot.scatter(x='longitude', \n",
    "                           y='latitude',\n",
    "                           c=station_means[v_station_var], \n",
    "                           cmap=cmap,\n",
    "                           ax=ax,\n",
    "                           vmin=min_era5, vmax=max_era5)\n",
    "ax.coastlines()\n",
    "ax.set_extent([165, 180, -50, -34], crs=ccrs.PlateCarree())"
   ]
  },
  {
   "cell_type": "code",
   "execution_count": null,
   "metadata": {},
   "outputs": [],
   "source": [
    "fig, ax = plt.subplots(figsize=(15, 5), **{'subplot_kw': {'projection': ccrs.PlateCarree()}})\n",
    "\n",
    "mean_era5.plot(ax=ax, \n",
    "                cmap=cmap, \n",
    "                cbar_kwargs={'label': 'V Wind Component (m/s))'},\n",
    "                vmin=min_era5, vmax=max_era5)\n",
    "station_means.plot.scatter(x='longitude', \n",
    "                           y='latitude',\n",
    "                           c=station_means[v_station_var], \n",
    "                           cmap=cmap,\n",
    "                           ax=ax,\n",
    "                           vmin=min_era5, vmax=max_era5)\n",
    "\n",
    "ax.set_extent([165, 180, -50, -34], crs=ccrs.PlateCarree())\n"
   ]
  },
  {
   "cell_type": "markdown",
   "metadata": {},
   "source": [
    "Histogram"
   ]
  },
  {
   "cell_type": "code",
   "execution_count": null,
   "metadata": {},
   "outputs": [],
   "source": [
    "fig, ax = plt.subplots()\n",
    "ax.hist(station_df['u'].values, bins=50, density=True)\n",
    "ax.set_title('Station U10 winds Histogram')"
   ]
  },
  {
   "cell_type": "code",
   "execution_count": null,
   "metadata": {},
   "outputs": [],
   "source": [
    "fig, ax = plt.subplots()\n",
    "ax.hist(station_df['v'].values, bins=50, density=True)\n",
    "ax.set_title('Station V10 winds Histogram')"
   ]
  },
  {
   "cell_type": "code",
   "execution_count": null,
   "metadata": {},
   "outputs": [],
   "source": []
  }
 ],
 "metadata": {
  "kernelspec": {
   "display_name": "deepsensor2",
   "language": "python",
   "name": "python3"
  },
  "language_info": {
   "codemirror_mode": {
    "name": "ipython",
    "version": 3
   },
   "file_extension": ".py",
   "mimetype": "text/x-python",
   "name": "python",
   "nbconvert_exporter": "python",
   "pygments_lexer": "ipython3",
   "version": "3.12.5"
  }
 },
 "nbformat": 4,
 "nbformat_minor": 2
}
